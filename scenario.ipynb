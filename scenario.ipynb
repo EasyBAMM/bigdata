{
 "metadata": {
  "language_info": {
   "codemirror_mode": {
    "name": "ipython",
    "version": 3
   },
   "file_extension": ".py",
   "mimetype": "text/x-python",
   "name": "python",
   "nbconvert_exporter": "python",
   "pygments_lexer": "ipython3",
   "version": "3.8.3"
  },
  "orig_nbformat": 2,
  "kernelspec": {
   "name": "python383jvsc74a57bd00550db32909c96ffed6a879d5650b8ef7b4bd69d59ffead0302318a37b17c719",
   "display_name": "Python 3.8.3 64-bit"
  },
  "metadata": {
   "interpreter": {
    "hash": "0550db32909c96ffed6a879d5650b8ef7b4bd69d59ffead0302318a37b17c719"
   }
  }
 },
 "nbformat": 4,
 "nbformat_minor": 2,
 "cells": [
  {
   "cell_type": "code",
   "execution_count": 2,
   "metadata": {},
   "outputs": [],
   "source": [
    "# YouTube API 데이터 추출 후 JSON 저장\n",
    "import json\n",
    "import pandas as pd\n",
    "import googleapiclient.discovery\n",
    "from dotenv import dotenv_values\n",
    "\n",
    "\n",
    "def get_api_key():\n",
    "    ''' \n",
    "    Youtube API Key\n",
    "    '''\n",
    "    config = dotenv_values(\".env\")\n",
    "    return config['API_KEY']\n",
    "\n",
    "\n",
    "def get_data(count=999999, nextPageToken=\"\"):\n",
    "    '''\n",
    "    Change YOUR_API_KEY!!!\n",
    "    Recursively receive data as much as maxResults through API. \n",
    "    Limit API calls to count parameter.\n",
    "    '''\n",
    "    # Check count\n",
    "    if count < 1:\n",
    "        print(\"[INFO] Count End.\")\n",
    "        return\n",
    "\n",
    "    # Disable OAuthlib's HTTPS verification when running locally.\n",
    "    # *DO NOT* leave this option enabled in production.\n",
    "    # os.environ[\"OAUTHLIB_INSECURE_TRANSPORT\"] = \"1\"\n",
    "\n",
    "    api_service_name = \"youtube\"\n",
    "    api_version = \"v3\"\n",
    "    DEVELOPER_KEY = get_api_key()  # \"YOUR_API_KEY\"\n",
    "\n",
    "    youtube = googleapiclient.discovery.build(\n",
    "        api_service_name, api_version, developerKey=DEVELOPER_KEY)\n",
    "\n",
    "    # Document reference\n",
    "    # example >> part=\"id, snippet, replies\", maxResults=20, order=\"relevance\", pageToken=nextPageToken, videoId=\"HNObBsbvxOk\",\n",
    "    request = youtube.commentThreads().list(\n",
    "        part=\"id, snippet, replies\",\n",
    "        maxResults=100,\n",
    "        order=\"relevance\",\n",
    "        pageToken=nextPageToken,\n",
    "        videoId=\"PQsaqGcloBY\",\n",
    "    )\n",
    "    response = request.execute()\n",
    "\n",
    "    print(f\"************** {count} times left. **************\")\n",
    "\n",
    "    # with open('data/popular_game_10.json', 'w', encoding=\"utf-8\") as make_file:\n",
    "    #     json.dump(response, make_file, indent=\"\\t\", ensure_ascii=False)\n",
    "    #     print(\"[INFO] Saved.\")\n",
    "\n",
    "    # print(response)\n",
    "\n",
    "    # Call recursive when nextPageToken is exist.\n",
    "    if \"nextPageToken\" in response:\n",
    "        get_data(count-1, response[\"nextPageToken\"])\n",
    "    else:\n",
    "        print(\"[End] No more comments.\")\n",
    "\n",
    "\n",
    "get_data(1)\n",
    "print(\"[INFO] Finished.\")"
   ]
  },
  {
   "cell_type": "code",
   "execution_count": 3,
   "metadata": {},
   "outputs": [
    {
     "output_type": "execute_result",
     "data": {
      "text/plain": [
       "         videoId  item_type authorDisplayName  \\\n",
       "0    EB2wH1_B_7A          0       뇌피소설가 입소문tv   \n",
       "1    EB2wH1_B_7A          1               안용호   \n",
       "2    EB2wH1_B_7A          1           경이로운 쿠키   \n",
       "3    EB2wH1_B_7A          1              까페모카   \n",
       "4    EB2wH1_B_7A          1               이민호   \n",
       "..           ...        ...               ...   \n",
       "166  EB2wH1_B_7A          0               강신조   \n",
       "167  EB2wH1_B_7A          0           경이로운 쿠키   \n",
       "168  EB2wH1_B_7A          0            ej RYU   \n",
       "169  EB2wH1_B_7A          0               임요셉   \n",
       "170  EB2wH1_B_7A          0             착하게살자   \n",
       "\n",
       "                                           textDisplay  \\\n",
       "0                                         ㅇㄹㅈㅂㅅㅎㅈ 초성정답   \n",
       "1                                               오 예측성공   \n",
       "2                                             이거 17회에요   \n",
       "3                                                  아아~   \n",
       "4                                     지하 금불상...딜 아닐까요?   \n",
       "..                                                 ...   \n",
       "166                                           인터폴이 훼이크   \n",
       "167  18회예상해봤을때는 장한서랑 빈센조랑 짜고 총을쏘는 척 을 한다음 빈센조가 병원에 ...   \n",
       "168                                       잘 봤어요~ 감사합니다   \n",
       "169             ㄹㅇ 빼박임 ㅋㅋㅋㅎㅎㅋㅋㅋㅎㅋ 작가 의도가 너무 뻔함 물론 내 눈엔   \n",
       "170  에이 그래도 금가 패밀리 사람들(까사노패밀리) 가스 폭팔로 죽을뻔한거 막아주고 하키...   \n",
       "\n",
       "                                          textOriginal  \\\n",
       "0                                         ㅇㄹㅈㅂㅅㅎㅈ 초성정답   \n",
       "1                                               오 예측성공   \n",
       "2                                             이거 17회에요   \n",
       "3                                                  아아~   \n",
       "4                                     지하 금불상...딜 아닐까요?   \n",
       "..                                                 ...   \n",
       "166                                           인터폴이 훼이크   \n",
       "167  18회예상해봤을때는 장한서랑 빈센조랑 짜고 총을쏘는 척 을 한다음 빈센조가 병원에 ...   \n",
       "168                                       잘 봤어요~ 감사합니다   \n",
       "169             ㄹㅇ 빼박임 ㅋㅋㅋㅎㅎㅋㅋㅋㅎㅋ 작가 의도가 너무 뻔함 물론 내 눈엔   \n",
       "170  에이 그래도 금가 패밀리 사람들(까사노패밀리) 가스 폭팔로 죽을뻔한거 막아주고 하키...   \n",
       "\n",
       "                                      authorChannelUrl  likeCount  isBad  \n",
       "0    http://www.youtube.com/channel/UChpiLQ5R0TYR9O...         65      0  \n",
       "1    http://www.youtube.com/channel/UCsgdLLQoAN5RoY...          0      0  \n",
       "2    http://www.youtube.com/channel/UCis3ExhHkhEvJE...          0      0  \n",
       "3    http://www.youtube.com/channel/UCpcR4qXlzGEAZs...          1      0  \n",
       "4    http://www.youtube.com/channel/UCaFvZHUQn-S5OX...          3      0  \n",
       "..                                                 ...        ...    ...  \n",
       "166  http://www.youtube.com/channel/UCFocoqPhfHroXu...          0      0  \n",
       "167  http://www.youtube.com/channel/UCis3ExhHkhEvJE...          1      0  \n",
       "168  http://www.youtube.com/channel/UC9kpxtJ5PMjnBZ...          0      0  \n",
       "169  http://www.youtube.com/channel/UCugBqPM8RrWeRI...          0      0  \n",
       "170  http://www.youtube.com/channel/UCNW7knJoY06LTO...          0      0  \n",
       "\n",
       "[171 rows x 8 columns]"
      ],
      "text/html": "<div>\n<style scoped>\n    .dataframe tbody tr th:only-of-type {\n        vertical-align: middle;\n    }\n\n    .dataframe tbody tr th {\n        vertical-align: top;\n    }\n\n    .dataframe thead th {\n        text-align: right;\n    }\n</style>\n<table border=\"1\" class=\"dataframe\">\n  <thead>\n    <tr style=\"text-align: right;\">\n      <th></th>\n      <th>videoId</th>\n      <th>item_type</th>\n      <th>authorDisplayName</th>\n      <th>textDisplay</th>\n      <th>textOriginal</th>\n      <th>authorChannelUrl</th>\n      <th>likeCount</th>\n      <th>isBad</th>\n    </tr>\n  </thead>\n  <tbody>\n    <tr>\n      <th>0</th>\n      <td>EB2wH1_B_7A</td>\n      <td>0</td>\n      <td>뇌피소설가 입소문tv</td>\n      <td>ㅇㄹㅈㅂㅅㅎㅈ 초성정답</td>\n      <td>ㅇㄹㅈㅂㅅㅎㅈ 초성정답</td>\n      <td>http://www.youtube.com/channel/UChpiLQ5R0TYR9O...</td>\n      <td>65</td>\n      <td>0</td>\n    </tr>\n    <tr>\n      <th>1</th>\n      <td>EB2wH1_B_7A</td>\n      <td>1</td>\n      <td>안용호</td>\n      <td>오 예측성공</td>\n      <td>오 예측성공</td>\n      <td>http://www.youtube.com/channel/UCsgdLLQoAN5RoY...</td>\n      <td>0</td>\n      <td>0</td>\n    </tr>\n    <tr>\n      <th>2</th>\n      <td>EB2wH1_B_7A</td>\n      <td>1</td>\n      <td>경이로운 쿠키</td>\n      <td>이거 17회에요</td>\n      <td>이거 17회에요</td>\n      <td>http://www.youtube.com/channel/UCis3ExhHkhEvJE...</td>\n      <td>0</td>\n      <td>0</td>\n    </tr>\n    <tr>\n      <th>3</th>\n      <td>EB2wH1_B_7A</td>\n      <td>1</td>\n      <td>까페모카</td>\n      <td>아아~</td>\n      <td>아아~</td>\n      <td>http://www.youtube.com/channel/UCpcR4qXlzGEAZs...</td>\n      <td>1</td>\n      <td>0</td>\n    </tr>\n    <tr>\n      <th>4</th>\n      <td>EB2wH1_B_7A</td>\n      <td>1</td>\n      <td>이민호</td>\n      <td>지하 금불상...딜 아닐까요?</td>\n      <td>지하 금불상...딜 아닐까요?</td>\n      <td>http://www.youtube.com/channel/UCaFvZHUQn-S5OX...</td>\n      <td>3</td>\n      <td>0</td>\n    </tr>\n    <tr>\n      <th>...</th>\n      <td>...</td>\n      <td>...</td>\n      <td>...</td>\n      <td>...</td>\n      <td>...</td>\n      <td>...</td>\n      <td>...</td>\n      <td>...</td>\n    </tr>\n    <tr>\n      <th>166</th>\n      <td>EB2wH1_B_7A</td>\n      <td>0</td>\n      <td>강신조</td>\n      <td>인터폴이 훼이크</td>\n      <td>인터폴이 훼이크</td>\n      <td>http://www.youtube.com/channel/UCFocoqPhfHroXu...</td>\n      <td>0</td>\n      <td>0</td>\n    </tr>\n    <tr>\n      <th>167</th>\n      <td>EB2wH1_B_7A</td>\n      <td>0</td>\n      <td>경이로운 쿠키</td>\n      <td>18회예상해봤을때는 장한서랑 빈센조랑 짜고 총을쏘는 척 을 한다음 빈센조가 병원에 ...</td>\n      <td>18회예상해봤을때는 장한서랑 빈센조랑 짜고 총을쏘는 척 을 한다음 빈센조가 병원에 ...</td>\n      <td>http://www.youtube.com/channel/UCis3ExhHkhEvJE...</td>\n      <td>1</td>\n      <td>0</td>\n    </tr>\n    <tr>\n      <th>168</th>\n      <td>EB2wH1_B_7A</td>\n      <td>0</td>\n      <td>ej RYU</td>\n      <td>잘 봤어요~ 감사합니다</td>\n      <td>잘 봤어요~ 감사합니다</td>\n      <td>http://www.youtube.com/channel/UC9kpxtJ5PMjnBZ...</td>\n      <td>0</td>\n      <td>0</td>\n    </tr>\n    <tr>\n      <th>169</th>\n      <td>EB2wH1_B_7A</td>\n      <td>0</td>\n      <td>임요셉</td>\n      <td>ㄹㅇ 빼박임 ㅋㅋㅋㅎㅎㅋㅋㅋㅎㅋ 작가 의도가 너무 뻔함 물론 내 눈엔</td>\n      <td>ㄹㅇ 빼박임 ㅋㅋㅋㅎㅎㅋㅋㅋㅎㅋ 작가 의도가 너무 뻔함 물론 내 눈엔</td>\n      <td>http://www.youtube.com/channel/UCugBqPM8RrWeRI...</td>\n      <td>0</td>\n      <td>0</td>\n    </tr>\n    <tr>\n      <th>170</th>\n      <td>EB2wH1_B_7A</td>\n      <td>0</td>\n      <td>착하게살자</td>\n      <td>에이 그래도 금가 패밀리 사람들(까사노패밀리) 가스 폭팔로 죽을뻔한거 막아주고 하키...</td>\n      <td>에이 그래도 금가 패밀리 사람들(까사노패밀리) 가스 폭팔로 죽을뻔한거 막아주고 하키...</td>\n      <td>http://www.youtube.com/channel/UCNW7knJoY06LTO...</td>\n      <td>0</td>\n      <td>0</td>\n    </tr>\n  </tbody>\n</table>\n<p>171 rows × 8 columns</p>\n</div>"
     },
     "metadata": {},
     "execution_count": 3
    }
   ],
   "source": [
    "# JSON 데이터에서 원하는 정보만 추출하여 pandas 후 csv로 저장\n",
    "import pandas as pd\n",
    "import json\n",
    "\n",
    "num = 10\n",
    "category = \"popular_new_\"\n",
    "src = \"data/\" + category + str(num) + \".json\"\n",
    "dst = \"data/csv/\" + category + str(num) + \".csv\"\n",
    "\n",
    "\n",
    "def open_json_file():\n",
    "\n",
    "    with open(src, \"r\", encoding=\"utf-8\") as f:\n",
    "        json_data = json.load(f)\n",
    "    return json_data\n",
    "\n",
    "\n",
    "json_data = open_json_file()\n",
    "items = json_data[\"items\"]\n",
    "\n",
    "videoId = []\n",
    "item_type = []  # 0: comment, 1: replie\n",
    "textDisplay = []\n",
    "textOriginal = []\n",
    "authorDisplayName = []\n",
    "authorChannelUrl = []\n",
    "likeCount = []\n",
    "# isBad = []\n",
    "\n",
    "for item in items:\n",
    "    comment_videoId = item[\"snippet\"][\"videoId\"]\n",
    "    comment_textDisplay = item[\"snippet\"][\"topLevelComment\"][\"snippet\"][\"textDisplay\"]\n",
    "    comment_textOriginal = item[\"snippet\"][\"topLevelComment\"][\"snippet\"][\"textOriginal\"]\n",
    "    comment_authorDisplayName = item[\"snippet\"][\"topLevelComment\"][\"snippet\"][\"authorDisplayName\"]\n",
    "    comment_authorChannelUrl = item[\"snippet\"][\"topLevelComment\"][\"snippet\"][\"authorChannelUrl\"]\n",
    "    comment_likeCount = item[\"snippet\"][\"topLevelComment\"][\"snippet\"][\"likeCount\"]\n",
    "    comment_totalReplyCount = item[\"snippet\"][\"totalReplyCount\"]\n",
    "\n",
    "    videoId.append(comment_videoId)\n",
    "    item_type.append(0)\n",
    "    textDisplay.append(comment_textDisplay)\n",
    "    textOriginal.append(comment_textOriginal)\n",
    "    authorDisplayName.append(comment_authorDisplayName)\n",
    "    authorChannelUrl.append(comment_authorChannelUrl)\n",
    "    likeCount.append(comment_likeCount)\n",
    "\n",
    "    if comment_totalReplyCount != 0:\n",
    "        replies = item[\"replies\"][\"comments\"]\n",
    "\n",
    "        for replie in replies:\n",
    "            replie_videoId = replie[\"snippet\"][\"videoId\"]\n",
    "            replie_textDisplay = replie[\"snippet\"][\"textDisplay\"]\n",
    "            replie_textOriginal = replie[\"snippet\"][\"textOriginal\"]\n",
    "            replie_authorDisplayName = replie[\"snippet\"][\"authorDisplayName\"]\n",
    "            replie_authorChannelUrl = replie[\"snippet\"][\"authorChannelUrl\"]\n",
    "            replie_likeCount = replie[\"snippet\"][\"likeCount\"]\n",
    "\n",
    "            videoId.append(replie_videoId)\n",
    "            item_type.append(1)\n",
    "            textDisplay.append(replie_textDisplay)\n",
    "            textOriginal.append(replie_textOriginal)\n",
    "            authorDisplayName.append(replie_authorDisplayName)\n",
    "            authorChannelUrl.append(replie_authorChannelUrl)\n",
    "            likeCount.append(replie_likeCount)\n",
    "\n",
    "data = {'videoId': videoId, 'item_type': item_type, 'authorDisplayName': authorDisplayName,\n",
    "        'textDisplay': textDisplay, 'textOriginal': textOriginal, 'authorChannelUrl': authorChannelUrl, 'likeCount': likeCount}\n",
    "\n",
    "df = pd.DataFrame(data)\n",
    "df[\"isBad\"] = 0\n",
    "df.to_csv(dst)\n",
    "df"
   ]
  },
  {
   "cell_type": "code",
   "execution_count": null,
   "metadata": {},
   "outputs": [],
   "source": [
    "# 인기동영상 모두 병합\n",
    "import pandas as pd\n",
    "\n",
    "data = []\n",
    "\n",
    "for i in range(1, 11):\n",
    "    path = \"data/csv/popular_new_\" + str(i) + \".csv\"\n",
    "    df = pd.read_csv(path)\n",
    "    data.append(df)\n",
    "\n",
    "finalDf = pd.concat(data)\n",
    "finalDf.to_csv(\"data/csv/popular_new_sum.csv\")"
   ]
  },
  {
   "cell_type": "code",
   "execution_count": 6,
   "metadata": {},
   "outputs": [
    {
     "output_type": "execute_result",
     "data": {
      "text/plain": [
       "      Unnamed: 0      videoId  item_type authorDisplayName  \\\n",
       "0              0  K7qKmZn0XfE          0             big k   \n",
       "1              1  K7qKmZn0XfE          1              미션페이   \n",
       "2              2  K7qKmZn0XfE          0               임충희   \n",
       "3              3  K7qKmZn0XfE          1             과연 퀴즈   \n",
       "4              4  K7qKmZn0XfE          0               김남이   \n",
       "...          ...          ...        ...               ...   \n",
       "5400        5400  PQsaqGcloBY          0               강태인   \n",
       "5401        5401  PQsaqGcloBY          0                베리   \n",
       "5402        5402  PQsaqGcloBY          0               이예린   \n",
       "5403        5403  PQsaqGcloBY          0                하진   \n",
       "5404        5404  PQsaqGcloBY          0               권강민   \n",
       "\n",
       "                                            textDisplay  \\\n",
       "0     힘든시기. 연우 하영이<br />보는재미에 푹 빠져<br />잘 지냈습니다<br /...   \n",
       "1                                    제 체널에서 무료로 돈버세요~^^   \n",
       "2     경완님 그동안 많이 고마웠어요<br />항상 행복하시고 연우 하영이 모습 자주보여주...   \n",
       "3                                          구독안하면 영원히 솔로   \n",
       "4     언제나 응원합니다 경완 윤정 연우하영 그동안 고생많으셨습니다  앞으로도 지금처럼 행...   \n",
       "...                                                 ...   \n",
       "5400                                    환경오염하면 빛솔의 ASMR   \n",
       "5401                                         인트로 귀엽다...   \n",
       "5402                    씨엔님 사랑해 하는거 왜이리 빨라 ㅋㅋㅋㅋ 케웃기눜ㅋㅋㅋ   \n",
       "5403                                       인트로 겁나 기여워ㅠㅠ   \n",
       "5404                                      인트로ㅋㅋㅋㅋㅋㅋㅋㅋㅋㅋ   \n",
       "\n",
       "                                           textOriginal  \\\n",
       "0     힘든시기. 연우 하영이\\n보는재미에 푹 빠져\\n잘 지냈습니다\\n그동안 고생많이. 하...   \n",
       "1                                    제 체널에서 무료로 돈버세요~^^   \n",
       "2     경완님 그동안 많이 고마웠어요\\n항상 행복하시고 연우 하영이 모습 자주보여주세요.\\...   \n",
       "3                                          구독안하면 영원히 솔로   \n",
       "4     언제나 응원합니다 경완 윤정 연우하영 그동안 고생많으셨습니다  앞으로도 지금처럼 행...   \n",
       "...                                                 ...   \n",
       "5400                                    환경오염하면 빛솔의 ASMR   \n",
       "5401                                         인트로 귀엽다...   \n",
       "5402                    씨엔님 사랑해 하는거 왜이리 빨라 ㅋㅋㅋㅋ 케웃기눜ㅋㅋㅋ   \n",
       "5403                                       인트로 겁나 기여워ㅠㅠ   \n",
       "5404                                      인트로ㅋㅋㅋㅋㅋㅋㅋㅋㅋㅋ   \n",
       "\n",
       "                                       authorChannelUrl  likeCount category  \\\n",
       "0     http://www.youtube.com/channel/UCjDN0NP-BJ1WEP...      151.0      new   \n",
       "1     http://www.youtube.com/channel/UCXk7WVpUdr9In1...        0.0      new   \n",
       "2     http://www.youtube.com/channel/UCajvtubq_aEsGh...      669.0      new   \n",
       "3     http://www.youtube.com/channel/UCA8pGSJzLLhRtk...        5.0      new   \n",
       "4     http://www.youtube.com/channel/UCbt9l09yFRsvy5...      664.0      new   \n",
       "...                                                 ...        ...      ...   \n",
       "5400  http://www.youtube.com/channel/UCjSBmBvJvsdNKg...        0.0     game   \n",
       "5401  http://www.youtube.com/channel/UCkLxzUkN6ZYm_K...        0.0     game   \n",
       "5402  http://www.youtube.com/channel/UCtLuryiieeU14Q...        0.0     game   \n",
       "5403  http://www.youtube.com/channel/UCFoE_JV8CTn2hm...        0.0     game   \n",
       "5404  http://www.youtube.com/channel/UCXC8SbZ9RbTVDq...       10.0     game   \n",
       "\n",
       "      isBad  \n",
       "0       0.0  \n",
       "1       1.0  \n",
       "2       0.0  \n",
       "3       1.0  \n",
       "4       0.0  \n",
       "...     ...  \n",
       "5400    0.0  \n",
       "5401    0.0  \n",
       "5402    0.0  \n",
       "5403    0.0  \n",
       "5404    0.0  \n",
       "\n",
       "[5405 rows x 10 columns]"
      ],
      "text/html": "<div>\n<style scoped>\n    .dataframe tbody tr th:only-of-type {\n        vertical-align: middle;\n    }\n\n    .dataframe tbody tr th {\n        vertical-align: top;\n    }\n\n    .dataframe thead th {\n        text-align: right;\n    }\n</style>\n<table border=\"1\" class=\"dataframe\">\n  <thead>\n    <tr style=\"text-align: right;\">\n      <th></th>\n      <th>Unnamed: 0</th>\n      <th>videoId</th>\n      <th>item_type</th>\n      <th>authorDisplayName</th>\n      <th>textDisplay</th>\n      <th>textOriginal</th>\n      <th>authorChannelUrl</th>\n      <th>likeCount</th>\n      <th>category</th>\n      <th>isBad</th>\n    </tr>\n  </thead>\n  <tbody>\n    <tr>\n      <th>0</th>\n      <td>0</td>\n      <td>K7qKmZn0XfE</td>\n      <td>0</td>\n      <td>big k</td>\n      <td>힘든시기. 연우 하영이&lt;br /&gt;보는재미에 푹 빠져&lt;br /&gt;잘 지냈습니다&lt;br /...</td>\n      <td>힘든시기. 연우 하영이\\n보는재미에 푹 빠져\\n잘 지냈습니다\\n그동안 고생많이. 하...</td>\n      <td>http://www.youtube.com/channel/UCjDN0NP-BJ1WEP...</td>\n      <td>151.0</td>\n      <td>new</td>\n      <td>0.0</td>\n    </tr>\n    <tr>\n      <th>1</th>\n      <td>1</td>\n      <td>K7qKmZn0XfE</td>\n      <td>1</td>\n      <td>미션페이</td>\n      <td>제 체널에서 무료로 돈버세요~^^</td>\n      <td>제 체널에서 무료로 돈버세요~^^</td>\n      <td>http://www.youtube.com/channel/UCXk7WVpUdr9In1...</td>\n      <td>0.0</td>\n      <td>new</td>\n      <td>1.0</td>\n    </tr>\n    <tr>\n      <th>2</th>\n      <td>2</td>\n      <td>K7qKmZn0XfE</td>\n      <td>0</td>\n      <td>임충희</td>\n      <td>경완님 그동안 많이 고마웠어요&lt;br /&gt;항상 행복하시고 연우 하영이 모습 자주보여주...</td>\n      <td>경완님 그동안 많이 고마웠어요\\n항상 행복하시고 연우 하영이 모습 자주보여주세요.\\...</td>\n      <td>http://www.youtube.com/channel/UCajvtubq_aEsGh...</td>\n      <td>669.0</td>\n      <td>new</td>\n      <td>0.0</td>\n    </tr>\n    <tr>\n      <th>3</th>\n      <td>3</td>\n      <td>K7qKmZn0XfE</td>\n      <td>1</td>\n      <td>과연 퀴즈</td>\n      <td>구독안하면 영원히 솔로</td>\n      <td>구독안하면 영원히 솔로</td>\n      <td>http://www.youtube.com/channel/UCA8pGSJzLLhRtk...</td>\n      <td>5.0</td>\n      <td>new</td>\n      <td>1.0</td>\n    </tr>\n    <tr>\n      <th>4</th>\n      <td>4</td>\n      <td>K7qKmZn0XfE</td>\n      <td>0</td>\n      <td>김남이</td>\n      <td>언제나 응원합니다 경완 윤정 연우하영 그동안 고생많으셨습니다  앞으로도 지금처럼 행...</td>\n      <td>언제나 응원합니다 경완 윤정 연우하영 그동안 고생많으셨습니다  앞으로도 지금처럼 행...</td>\n      <td>http://www.youtube.com/channel/UCbt9l09yFRsvy5...</td>\n      <td>664.0</td>\n      <td>new</td>\n      <td>0.0</td>\n    </tr>\n    <tr>\n      <th>...</th>\n      <td>...</td>\n      <td>...</td>\n      <td>...</td>\n      <td>...</td>\n      <td>...</td>\n      <td>...</td>\n      <td>...</td>\n      <td>...</td>\n      <td>...</td>\n      <td>...</td>\n    </tr>\n    <tr>\n      <th>5400</th>\n      <td>5400</td>\n      <td>PQsaqGcloBY</td>\n      <td>0</td>\n      <td>강태인</td>\n      <td>환경오염하면 빛솔의 ASMR</td>\n      <td>환경오염하면 빛솔의 ASMR</td>\n      <td>http://www.youtube.com/channel/UCjSBmBvJvsdNKg...</td>\n      <td>0.0</td>\n      <td>game</td>\n      <td>0.0</td>\n    </tr>\n    <tr>\n      <th>5401</th>\n      <td>5401</td>\n      <td>PQsaqGcloBY</td>\n      <td>0</td>\n      <td>베리</td>\n      <td>인트로 귀엽다...</td>\n      <td>인트로 귀엽다...</td>\n      <td>http://www.youtube.com/channel/UCkLxzUkN6ZYm_K...</td>\n      <td>0.0</td>\n      <td>game</td>\n      <td>0.0</td>\n    </tr>\n    <tr>\n      <th>5402</th>\n      <td>5402</td>\n      <td>PQsaqGcloBY</td>\n      <td>0</td>\n      <td>이예린</td>\n      <td>씨엔님 사랑해 하는거 왜이리 빨라 ㅋㅋㅋㅋ 케웃기눜ㅋㅋㅋ</td>\n      <td>씨엔님 사랑해 하는거 왜이리 빨라 ㅋㅋㅋㅋ 케웃기눜ㅋㅋㅋ</td>\n      <td>http://www.youtube.com/channel/UCtLuryiieeU14Q...</td>\n      <td>0.0</td>\n      <td>game</td>\n      <td>0.0</td>\n    </tr>\n    <tr>\n      <th>5403</th>\n      <td>5403</td>\n      <td>PQsaqGcloBY</td>\n      <td>0</td>\n      <td>하진</td>\n      <td>인트로 겁나 기여워ㅠㅠ</td>\n      <td>인트로 겁나 기여워ㅠㅠ</td>\n      <td>http://www.youtube.com/channel/UCFoE_JV8CTn2hm...</td>\n      <td>0.0</td>\n      <td>game</td>\n      <td>0.0</td>\n    </tr>\n    <tr>\n      <th>5404</th>\n      <td>5404</td>\n      <td>PQsaqGcloBY</td>\n      <td>0</td>\n      <td>권강민</td>\n      <td>인트로ㅋㅋㅋㅋㅋㅋㅋㅋㅋㅋ</td>\n      <td>인트로ㅋㅋㅋㅋㅋㅋㅋㅋㅋㅋ</td>\n      <td>http://www.youtube.com/channel/UCXC8SbZ9RbTVDq...</td>\n      <td>10.0</td>\n      <td>game</td>\n      <td>0.0</td>\n    </tr>\n  </tbody>\n</table>\n<p>5405 rows × 10 columns</p>\n</div>"
     },
     "metadata": {},
     "execution_count": 6
    }
   ],
   "source": [
    "import pandas as pd\n",
    "df = pd.read_csv(\"data/csv/popular_final_sum.csv\")\n",
    "df"
   ]
  },
  {
   "cell_type": "code",
   "execution_count": 44,
   "metadata": {},
   "outputs": [],
   "source": [
    "import matplotlib.pyplot as plt\n",
    "import seaborn as sns\n",
    "sns.set()"
   ]
  },
  {
   "cell_type": "code",
   "execution_count": 25,
   "metadata": {},
   "outputs": [],
   "source": [
    "# category가 new인 것만 검색\n",
    "is_category_new = df['category'] == 'new'\n",
    "category_new = df[is_category_new]\n",
    "# category_new.head()"
   ]
  },
  {
   "cell_type": "code",
   "execution_count": 26,
   "metadata": {},
   "outputs": [],
   "source": [
    "# category가 music인 것만 검색\n",
    "is_category_music = df['category'] == 'music'\n",
    "category_music = df[is_category_music]\n",
    "# category_music.head()"
   ]
  },
  {
   "cell_type": "code",
   "execution_count": 27,
   "metadata": {},
   "outputs": [],
   "source": [
    "# category가 new인 것만 검색\n",
    "is_category_game = df['category'] == 'game'\n",
    "category_game = df[is_category_game]\n",
    "# category_game.head()"
   ]
  },
  {
   "cell_type": "code",
   "execution_count": 34,
   "metadata": {},
   "outputs": [
    {
     "output_type": "stream",
     "name": "stdout",
     "text": [
      "1895 79\n"
     ]
    }
   ],
   "source": [
    "# category new 댓글 수\n",
    "total_category_new = category_new['isBad'].count()\n",
    "category_new_bad = category_new['isBad'] == 1\n",
    "total_category_new_bad = category_new[category_new_bad]['isBad'].count()\n",
    "print(total_category_new, total_category_new_bad)"
   ]
  },
  {
   "cell_type": "code",
   "execution_count": 35,
   "metadata": {},
   "outputs": [
    {
     "output_type": "stream",
     "name": "stdout",
     "text": [
      "1915 0\n"
     ]
    }
   ],
   "source": [
    "# category music 댓글 수\n",
    "total_category_music = category_music['isBad'].count()\n",
    "category_music_bad = category_music['isBad'] == 1\n",
    "total_category_music_bad = category_music[category_music_bad]['isBad'].count()\n",
    "print(total_category_music, total_category_music_bad)"
   ]
  },
  {
   "cell_type": "code",
   "execution_count": 33,
   "metadata": {},
   "outputs": [
    {
     "output_type": "stream",
     "name": "stdout",
     "text": [
      "1595 51\n"
     ]
    }
   ],
   "source": [
    "# category game 댓글 수\n",
    "total_category_game = category_game['isBad'].count()\n",
    "category_game_bad = category_game['isBad'] == 1\n",
    "total_category_game_bad = category_game[category_game_bad]['isBad'].count()\n",
    "print(total_category_game, total_category_game_bad)"
   ]
  },
  {
   "cell_type": "code",
   "execution_count": 50,
   "metadata": {},
   "outputs": [
    {
     "output_type": "display_data",
     "data": {
      "text/plain": "<Figure size 432x288 with 1 Axes>",
      "image/svg+xml": "<?xml version=\"1.0\" encoding=\"utf-8\" standalone=\"no\"?>\r\n<!DOCTYPE svg PUBLIC \"-//W3C//DTD SVG 1.1//EN\"\r\n  \"http://www.w3.org/Graphics/SVG/1.1/DTD/svg11.dtd\">\r\n<!-- Created with matplotlib (https://matplotlib.org/) -->\r\n<svg height=\"251.399844pt\" version=\"1.1\" viewBox=\"0 0 370.934062 251.399844\" width=\"370.934062pt\" xmlns=\"http://www.w3.org/2000/svg\" xmlns:xlink=\"http://www.w3.org/1999/xlink\">\r\n <metadata>\r\n  <rdf:RDF xmlns:cc=\"http://creativecommons.org/ns#\" xmlns:dc=\"http://purl.org/dc/elements/1.1/\" xmlns:rdf=\"http://www.w3.org/1999/02/22-rdf-syntax-ns#\">\r\n   <cc:Work>\r\n    <dc:type rdf:resource=\"http://purl.org/dc/dcmitype/StillImage\"/>\r\n    <dc:date>2021-04-26T22:41:05.006412</dc:date>\r\n    <dc:format>image/svg+xml</dc:format>\r\n    <dc:creator>\r\n     <cc:Agent>\r\n      <dc:title>Matplotlib v3.3.4, https://matplotlib.org/</dc:title>\r\n     </cc:Agent>\r\n    </dc:creator>\r\n   </cc:Work>\r\n  </rdf:RDF>\r\n </metadata>\r\n <defs>\r\n  <style type=\"text/css\">*{stroke-linecap:butt;stroke-linejoin:round;}</style>\r\n </defs>\r\n <g id=\"figure_1\">\r\n  <g id=\"patch_1\">\r\n   <path d=\"M 0 251.399844 \r\nL 370.934062 251.399844 \r\nL 370.934062 0 \r\nL 0 0 \r\nz\r\n\" style=\"fill:#ffffff;\"/>\r\n  </g>\r\n  <g id=\"axes_1\">\r\n   <g id=\"patch_2\">\r\n    <path d=\"M 28.934062 224.64 \r\nL 363.734062 224.64 \r\nL 363.734062 7.2 \r\nL 28.934062 7.2 \r\nz\r\n\" style=\"fill:#eaeaf2;\"/>\r\n   </g>\r\n   <g id=\"matplotlib.axis_1\">\r\n    <g id=\"xtick_1\">\r\n     <g id=\"line2d_1\">\r\n      <path clip-path=\"url(#p6395ad32a7)\" d=\"M 87.632764 224.64 \r\nL 87.632764 7.2 \r\n\" style=\"fill:none;stroke:#ffffff;stroke-linecap:round;\"/>\r\n     </g>\r\n     <g id=\"text_1\">\r\n      <!-- new -->\r\n      <g style=\"fill:#262626;\" transform=\"translate(77.543701 242.013594)scale(0.11 -0.11)\">\r\n       <defs>\r\n        <path d=\"M 6.59375 0 \r\nL 6.59375 51.859375 \r\nL 14.5 51.859375 \r\nL 14.5 44.484375 \r\nQ 20.21875 53.03125 31 53.03125 \r\nQ 35.6875 53.03125 39.625 51.34375 \r\nQ 43.5625 49.65625 45.515625 46.921875 \r\nQ 47.46875 44.1875 48.25 40.4375 \r\nQ 48.734375 37.984375 48.734375 31.890625 \r\nL 48.734375 0 \r\nL 39.9375 0 \r\nL 39.9375 31.546875 \r\nQ 39.9375 36.921875 38.90625 39.578125 \r\nQ 37.890625 42.234375 35.28125 43.8125 \r\nQ 32.671875 45.40625 29.15625 45.40625 \r\nQ 23.53125 45.40625 19.453125 41.84375 \r\nQ 15.375 38.28125 15.375 28.328125 \r\nL 15.375 0 \r\nz\r\n\" id=\"ArialMT-110\"/>\r\n        <path d=\"M 42.09375 16.703125 \r\nL 51.171875 15.578125 \r\nQ 49.03125 7.625 43.21875 3.21875 \r\nQ 37.40625 -1.171875 28.375 -1.171875 \r\nQ 17 -1.171875 10.328125 5.828125 \r\nQ 3.65625 12.84375 3.65625 25.484375 \r\nQ 3.65625 38.578125 10.390625 45.796875 \r\nQ 17.140625 53.03125 27.875 53.03125 \r\nQ 38.28125 53.03125 44.875 45.953125 \r\nQ 51.46875 38.875 51.46875 26.03125 \r\nQ 51.46875 25.25 51.421875 23.6875 \r\nL 12.75 23.6875 \r\nQ 13.234375 15.140625 17.578125 10.59375 \r\nQ 21.921875 6.0625 28.421875 6.0625 \r\nQ 33.25 6.0625 36.671875 8.59375 \r\nQ 40.09375 11.140625 42.09375 16.703125 \r\nz\r\nM 13.234375 30.90625 \r\nL 42.1875 30.90625 \r\nQ 41.609375 37.453125 38.875 40.71875 \r\nQ 34.671875 45.796875 27.984375 45.796875 \r\nQ 21.921875 45.796875 17.796875 41.75 \r\nQ 13.671875 37.703125 13.234375 30.90625 \r\nz\r\n\" id=\"ArialMT-101\"/>\r\n        <path d=\"M 16.15625 0 \r\nL 0.296875 51.859375 \r\nL 9.375 51.859375 \r\nL 17.625 21.921875 \r\nL 20.703125 10.796875 \r\nQ 20.90625 11.625 23.390625 21.484375 \r\nL 31.640625 51.859375 \r\nL 40.671875 51.859375 \r\nL 48.4375 21.78125 \r\nL 51.03125 11.859375 \r\nL 54 21.875 \r\nL 62.890625 51.859375 \r\nL 71.4375 51.859375 \r\nL 55.21875 0 \r\nL 46.09375 0 \r\nL 37.84375 31.0625 \r\nL 35.84375 39.890625 \r\nL 25.34375 0 \r\nz\r\n\" id=\"ArialMT-119\"/>\r\n       </defs>\r\n       <use xlink:href=\"#ArialMT-110\"/>\r\n       <use x=\"55.615234\" xlink:href=\"#ArialMT-101\"/>\r\n       <use x=\"111.230469\" xlink:href=\"#ArialMT-119\"/>\r\n      </g>\r\n     </g>\r\n    </g>\r\n    <g id=\"xtick_2\">\r\n     <g id=\"line2d_2\">\r\n      <path clip-path=\"url(#p6395ad32a7)\" d=\"M 196.334062 224.64 \r\nL 196.334062 7.2 \r\n\" style=\"fill:none;stroke:#ffffff;stroke-linecap:round;\"/>\r\n     </g>\r\n     <g id=\"text_2\">\r\n      <!-- music -->\r\n      <g style=\"fill:#262626;\" transform=\"translate(181.972187 242.013594)scale(0.11 -0.11)\">\r\n       <defs>\r\n        <path d=\"M 6.59375 0 \r\nL 6.59375 51.859375 \r\nL 14.453125 51.859375 \r\nL 14.453125 44.578125 \r\nQ 16.890625 48.390625 20.9375 50.703125 \r\nQ 25 53.03125 30.171875 53.03125 \r\nQ 35.9375 53.03125 39.625 50.640625 \r\nQ 43.3125 48.25 44.828125 43.953125 \r\nQ 50.984375 53.03125 60.84375 53.03125 \r\nQ 68.5625 53.03125 72.703125 48.75 \r\nQ 76.859375 44.484375 76.859375 35.59375 \r\nL 76.859375 0 \r\nL 68.109375 0 \r\nL 68.109375 32.671875 \r\nQ 68.109375 37.9375 67.25 40.25 \r\nQ 66.40625 42.578125 64.15625 43.984375 \r\nQ 61.921875 45.40625 58.890625 45.40625 \r\nQ 53.421875 45.40625 49.796875 41.765625 \r\nQ 46.1875 38.140625 46.1875 30.125 \r\nL 46.1875 0 \r\nL 37.40625 0 \r\nL 37.40625 33.6875 \r\nQ 37.40625 39.546875 35.25 42.46875 \r\nQ 33.109375 45.40625 28.21875 45.40625 \r\nQ 24.515625 45.40625 21.359375 43.453125 \r\nQ 18.21875 41.5 16.796875 37.734375 \r\nQ 15.375 33.984375 15.375 26.90625 \r\nL 15.375 0 \r\nz\r\n\" id=\"ArialMT-109\"/>\r\n        <path d=\"M 40.578125 0 \r\nL 40.578125 7.625 \r\nQ 34.515625 -1.171875 24.125 -1.171875 \r\nQ 19.53125 -1.171875 15.546875 0.578125 \r\nQ 11.578125 2.34375 9.640625 5 \r\nQ 7.71875 7.671875 6.9375 11.53125 \r\nQ 6.390625 14.109375 6.390625 19.734375 \r\nL 6.390625 51.859375 \r\nL 15.1875 51.859375 \r\nL 15.1875 23.09375 \r\nQ 15.1875 16.21875 15.71875 13.8125 \r\nQ 16.546875 10.359375 19.234375 8.375 \r\nQ 21.921875 6.390625 25.875 6.390625 \r\nQ 29.828125 6.390625 33.296875 8.421875 \r\nQ 36.765625 10.453125 38.203125 13.9375 \r\nQ 39.65625 17.4375 39.65625 24.078125 \r\nL 39.65625 51.859375 \r\nL 48.4375 51.859375 \r\nL 48.4375 0 \r\nz\r\n\" id=\"ArialMT-117\"/>\r\n        <path d=\"M 3.078125 15.484375 \r\nL 11.765625 16.84375 \r\nQ 12.5 11.625 15.84375 8.84375 \r\nQ 19.1875 6.0625 25.203125 6.0625 \r\nQ 31.25 6.0625 34.171875 8.515625 \r\nQ 37.109375 10.984375 37.109375 14.3125 \r\nQ 37.109375 17.28125 34.515625 19 \r\nQ 32.71875 20.171875 25.53125 21.96875 \r\nQ 15.875 24.421875 12.140625 26.203125 \r\nQ 8.40625 27.984375 6.46875 31.125 \r\nQ 4.546875 34.28125 4.546875 38.09375 \r\nQ 4.546875 41.546875 6.125 44.5 \r\nQ 7.71875 47.46875 10.453125 49.421875 \r\nQ 12.5 50.921875 16.03125 51.96875 \r\nQ 19.578125 53.03125 23.640625 53.03125 \r\nQ 29.734375 53.03125 34.34375 51.265625 \r\nQ 38.96875 49.515625 41.15625 46.5 \r\nQ 43.359375 43.5 44.1875 38.484375 \r\nL 35.59375 37.3125 \r\nQ 35.015625 41.3125 32.203125 43.546875 \r\nQ 29.390625 45.796875 24.265625 45.796875 \r\nQ 18.21875 45.796875 15.625 43.796875 \r\nQ 13.03125 41.796875 13.03125 39.109375 \r\nQ 13.03125 37.40625 14.109375 36.03125 \r\nQ 15.1875 34.625 17.484375 33.6875 \r\nQ 18.796875 33.203125 25.25 31.453125 \r\nQ 34.578125 28.953125 38.25 27.359375 \r\nQ 41.9375 25.78125 44.03125 22.75 \r\nQ 46.140625 19.734375 46.140625 15.234375 \r\nQ 46.140625 10.84375 43.578125 6.953125 \r\nQ 41.015625 3.078125 36.171875 0.953125 \r\nQ 31.34375 -1.171875 25.25 -1.171875 \r\nQ 15.140625 -1.171875 9.84375 3.03125 \r\nQ 4.546875 7.234375 3.078125 15.484375 \r\nz\r\n\" id=\"ArialMT-115\"/>\r\n        <path d=\"M 6.640625 61.46875 \r\nL 6.640625 71.578125 \r\nL 15.4375 71.578125 \r\nL 15.4375 61.46875 \r\nz\r\nM 6.640625 0 \r\nL 6.640625 51.859375 \r\nL 15.4375 51.859375 \r\nL 15.4375 0 \r\nz\r\n\" id=\"ArialMT-105\"/>\r\n        <path d=\"M 40.4375 19 \r\nL 49.078125 17.875 \r\nQ 47.65625 8.9375 41.8125 3.875 \r\nQ 35.984375 -1.171875 27.484375 -1.171875 \r\nQ 16.84375 -1.171875 10.375 5.78125 \r\nQ 3.90625 12.75 3.90625 25.734375 \r\nQ 3.90625 34.125 6.6875 40.421875 \r\nQ 9.46875 46.734375 15.15625 49.875 \r\nQ 20.84375 53.03125 27.546875 53.03125 \r\nQ 35.984375 53.03125 41.359375 48.75 \r\nQ 46.734375 44.484375 48.25 36.625 \r\nL 39.703125 35.296875 \r\nQ 38.484375 40.53125 35.375 43.15625 \r\nQ 32.28125 45.796875 27.875 45.796875 \r\nQ 21.234375 45.796875 17.078125 41.03125 \r\nQ 12.9375 36.28125 12.9375 25.984375 \r\nQ 12.9375 15.53125 16.9375 10.796875 \r\nQ 20.953125 6.0625 27.390625 6.0625 \r\nQ 32.5625 6.0625 36.03125 9.234375 \r\nQ 39.5 12.40625 40.4375 19 \r\nz\r\n\" id=\"ArialMT-99\"/>\r\n       </defs>\r\n       <use xlink:href=\"#ArialMT-109\"/>\r\n       <use x=\"83.300781\" xlink:href=\"#ArialMT-117\"/>\r\n       <use x=\"138.916016\" xlink:href=\"#ArialMT-115\"/>\r\n       <use x=\"188.916016\" xlink:href=\"#ArialMT-105\"/>\r\n       <use x=\"211.132812\" xlink:href=\"#ArialMT-99\"/>\r\n      </g>\r\n     </g>\r\n    </g>\r\n    <g id=\"xtick_3\">\r\n     <g id=\"line2d_3\">\r\n      <path clip-path=\"url(#p6395ad32a7)\" d=\"M 305.035361 224.64 \r\nL 305.035361 7.2 \r\n\" style=\"fill:none;stroke:#ffffff;stroke-linecap:round;\"/>\r\n     </g>\r\n     <g id=\"text_3\">\r\n      <!-- game -->\r\n      <g style=\"fill:#262626;\" transform=\"translate(291.278486 241.884687)scale(0.11 -0.11)\">\r\n       <defs>\r\n        <path d=\"M 4.984375 -4.296875 \r\nL 13.53125 -5.5625 \r\nQ 14.0625 -9.515625 16.5 -11.328125 \r\nQ 19.78125 -13.765625 25.4375 -13.765625 \r\nQ 31.546875 -13.765625 34.859375 -11.328125 \r\nQ 38.1875 -8.890625 39.359375 -4.5 \r\nQ 40.046875 -1.8125 39.984375 6.78125 \r\nQ 34.234375 0 25.640625 0 \r\nQ 14.9375 0 9.078125 7.71875 \r\nQ 3.21875 15.4375 3.21875 26.21875 \r\nQ 3.21875 33.640625 5.90625 39.90625 \r\nQ 8.59375 46.1875 13.6875 49.609375 \r\nQ 18.796875 53.03125 25.6875 53.03125 \r\nQ 34.859375 53.03125 40.828125 45.609375 \r\nL 40.828125 51.859375 \r\nL 48.921875 51.859375 \r\nL 48.921875 7.03125 \r\nQ 48.921875 -5.078125 46.453125 -10.125 \r\nQ 44 -15.1875 38.640625 -18.109375 \r\nQ 33.296875 -21.046875 25.484375 -21.046875 \r\nQ 16.21875 -21.046875 10.5 -16.875 \r\nQ 4.78125 -12.703125 4.984375 -4.296875 \r\nz\r\nM 12.25 26.859375 \r\nQ 12.25 16.65625 16.296875 11.96875 \r\nQ 20.359375 7.28125 26.46875 7.28125 \r\nQ 32.515625 7.28125 36.609375 11.9375 \r\nQ 40.71875 16.609375 40.71875 26.5625 \r\nQ 40.71875 36.078125 36.5 40.90625 \r\nQ 32.28125 45.75 26.3125 45.75 \r\nQ 20.453125 45.75 16.34375 40.984375 \r\nQ 12.25 36.234375 12.25 26.859375 \r\nz\r\n\" id=\"ArialMT-103\"/>\r\n        <path d=\"M 40.4375 6.390625 \r\nQ 35.546875 2.25 31.03125 0.53125 \r\nQ 26.515625 -1.171875 21.34375 -1.171875 \r\nQ 12.796875 -1.171875 8.203125 3 \r\nQ 3.609375 7.171875 3.609375 13.671875 \r\nQ 3.609375 17.484375 5.34375 20.625 \r\nQ 7.078125 23.78125 9.890625 25.6875 \r\nQ 12.703125 27.59375 16.21875 28.5625 \r\nQ 18.796875 29.25 24.03125 29.890625 \r\nQ 34.671875 31.15625 39.703125 32.90625 \r\nQ 39.75 34.71875 39.75 35.203125 \r\nQ 39.75 40.578125 37.25 42.78125 \r\nQ 33.890625 45.75 27.25 45.75 \r\nQ 21.046875 45.75 18.09375 43.578125 \r\nQ 15.140625 41.40625 13.71875 35.890625 \r\nL 5.125 37.0625 \r\nQ 6.296875 42.578125 8.984375 45.96875 \r\nQ 11.671875 49.359375 16.75 51.1875 \r\nQ 21.828125 53.03125 28.515625 53.03125 \r\nQ 35.15625 53.03125 39.296875 51.46875 \r\nQ 43.453125 49.90625 45.40625 47.53125 \r\nQ 47.359375 45.171875 48.140625 41.546875 \r\nQ 48.578125 39.3125 48.578125 33.453125 \r\nL 48.578125 21.734375 \r\nQ 48.578125 9.46875 49.140625 6.21875 \r\nQ 49.703125 2.984375 51.375 0 \r\nL 42.1875 0 \r\nQ 40.828125 2.734375 40.4375 6.390625 \r\nz\r\nM 39.703125 26.03125 \r\nQ 34.90625 24.078125 25.34375 22.703125 \r\nQ 19.921875 21.921875 17.671875 20.9375 \r\nQ 15.4375 19.96875 14.203125 18.09375 \r\nQ 12.984375 16.21875 12.984375 13.921875 \r\nQ 12.984375 10.40625 15.640625 8.0625 \r\nQ 18.3125 5.71875 23.4375 5.71875 \r\nQ 28.515625 5.71875 32.46875 7.9375 \r\nQ 36.421875 10.15625 38.28125 14.015625 \r\nQ 39.703125 17 39.703125 22.796875 \r\nz\r\n\" id=\"ArialMT-97\"/>\r\n       </defs>\r\n       <use xlink:href=\"#ArialMT-103\"/>\r\n       <use x=\"55.615234\" xlink:href=\"#ArialMT-97\"/>\r\n       <use x=\"111.230469\" xlink:href=\"#ArialMT-109\"/>\r\n       <use x=\"194.53125\" xlink:href=\"#ArialMT-101\"/>\r\n      </g>\r\n     </g>\r\n    </g>\r\n   </g>\r\n   <g id=\"matplotlib.axis_2\">\r\n    <g id=\"ytick_1\">\r\n     <g id=\"line2d_4\">\r\n      <path clip-path=\"url(#p6395ad32a7)\" d=\"M 28.934062 224.64 \r\nL 363.734062 224.64 \r\n\" style=\"fill:none;stroke:#ffffff;stroke-linecap:round;\"/>\r\n     </g>\r\n     <g id=\"text_4\">\r\n      <!-- 0 -->\r\n      <g style=\"fill:#262626;\" transform=\"translate(13.317031 228.576797)scale(0.11 -0.11)\">\r\n       <defs>\r\n        <path d=\"M 4.15625 35.296875 \r\nQ 4.15625 48 6.765625 55.734375 \r\nQ 9.375 63.484375 14.515625 67.671875 \r\nQ 19.671875 71.875 27.484375 71.875 \r\nQ 33.25 71.875 37.59375 69.546875 \r\nQ 41.9375 67.234375 44.765625 62.859375 \r\nQ 47.609375 58.5 49.21875 52.21875 \r\nQ 50.828125 45.953125 50.828125 35.296875 \r\nQ 50.828125 22.703125 48.234375 14.96875 \r\nQ 45.65625 7.234375 40.5 3 \r\nQ 35.359375 -1.21875 27.484375 -1.21875 \r\nQ 17.140625 -1.21875 11.234375 6.203125 \r\nQ 4.15625 15.140625 4.15625 35.296875 \r\nz\r\nM 13.1875 35.296875 \r\nQ 13.1875 17.671875 17.3125 11.828125 \r\nQ 21.4375 6 27.484375 6 \r\nQ 33.546875 6 37.671875 11.859375 \r\nQ 41.796875 17.71875 41.796875 35.296875 \r\nQ 41.796875 52.984375 37.671875 58.78125 \r\nQ 33.546875 64.59375 27.390625 64.59375 \r\nQ 21.34375 64.59375 17.71875 59.46875 \r\nQ 13.1875 52.9375 13.1875 35.296875 \r\nz\r\n\" id=\"ArialMT-48\"/>\r\n       </defs>\r\n       <use xlink:href=\"#ArialMT-48\"/>\r\n      </g>\r\n     </g>\r\n    </g>\r\n    <g id=\"ytick_2\">\r\n     <g id=\"line2d_5\">\r\n      <path clip-path=\"url(#p6395ad32a7)\" d=\"M 28.934062 198.426618 \r\nL 363.734062 198.426618 \r\n\" style=\"fill:none;stroke:#ffffff;stroke-linecap:round;\"/>\r\n     </g>\r\n     <g id=\"text_5\">\r\n      <!-- 10 -->\r\n      <g style=\"fill:#262626;\" transform=\"translate(7.2 202.363415)scale(0.11 -0.11)\">\r\n       <defs>\r\n        <path d=\"M 37.25 0 \r\nL 28.46875 0 \r\nL 28.46875 56 \r\nQ 25.296875 52.984375 20.140625 49.953125 \r\nQ 14.984375 46.921875 10.890625 45.40625 \r\nL 10.890625 53.90625 \r\nQ 18.265625 57.375 23.78125 62.296875 \r\nQ 29.296875 67.234375 31.59375 71.875 \r\nL 37.25 71.875 \r\nz\r\n\" id=\"ArialMT-49\"/>\r\n       </defs>\r\n       <use xlink:href=\"#ArialMT-49\"/>\r\n       <use x=\"55.615234\" xlink:href=\"#ArialMT-48\"/>\r\n      </g>\r\n     </g>\r\n    </g>\r\n    <g id=\"ytick_3\">\r\n     <g id=\"line2d_6\">\r\n      <path clip-path=\"url(#p6395ad32a7)\" d=\"M 28.934062 172.213237 \r\nL 363.734062 172.213237 \r\n\" style=\"fill:none;stroke:#ffffff;stroke-linecap:round;\"/>\r\n     </g>\r\n     <g id=\"text_6\">\r\n      <!-- 20 -->\r\n      <g style=\"fill:#262626;\" transform=\"translate(7.2 176.150034)scale(0.11 -0.11)\">\r\n       <defs>\r\n        <path d=\"M 50.34375 8.453125 \r\nL 50.34375 0 \r\nL 3.03125 0 \r\nQ 2.9375 3.171875 4.046875 6.109375 \r\nQ 5.859375 10.9375 9.828125 15.625 \r\nQ 13.8125 20.3125 21.34375 26.46875 \r\nQ 33.015625 36.03125 37.109375 41.625 \r\nQ 41.21875 47.21875 41.21875 52.203125 \r\nQ 41.21875 57.421875 37.46875 61 \r\nQ 33.734375 64.59375 27.734375 64.59375 \r\nQ 21.390625 64.59375 17.578125 60.78125 \r\nQ 13.765625 56.984375 13.71875 50.25 \r\nL 4.6875 51.171875 \r\nQ 5.609375 61.28125 11.65625 66.578125 \r\nQ 17.71875 71.875 27.9375 71.875 \r\nQ 38.234375 71.875 44.234375 66.15625 \r\nQ 50.25 60.453125 50.25 52 \r\nQ 50.25 47.703125 48.484375 43.546875 \r\nQ 46.734375 39.40625 42.65625 34.8125 \r\nQ 38.578125 30.21875 29.109375 22.21875 \r\nQ 21.1875 15.578125 18.9375 13.203125 \r\nQ 16.703125 10.84375 15.234375 8.453125 \r\nz\r\n\" id=\"ArialMT-50\"/>\r\n       </defs>\r\n       <use xlink:href=\"#ArialMT-50\"/>\r\n       <use x=\"55.615234\" xlink:href=\"#ArialMT-48\"/>\r\n      </g>\r\n     </g>\r\n    </g>\r\n    <g id=\"ytick_4\">\r\n     <g id=\"line2d_7\">\r\n      <path clip-path=\"url(#p6395ad32a7)\" d=\"M 28.934062 145.999855 \r\nL 363.734062 145.999855 \r\n\" style=\"fill:none;stroke:#ffffff;stroke-linecap:round;\"/>\r\n     </g>\r\n     <g id=\"text_7\">\r\n      <!-- 30 -->\r\n      <g style=\"fill:#262626;\" transform=\"translate(7.2 149.936652)scale(0.11 -0.11)\">\r\n       <defs>\r\n        <path d=\"M 4.203125 18.890625 \r\nL 12.984375 20.0625 \r\nQ 14.5 12.59375 18.140625 9.296875 \r\nQ 21.78125 6 27 6 \r\nQ 33.203125 6 37.46875 10.296875 \r\nQ 41.75 14.59375 41.75 20.953125 \r\nQ 41.75 27 37.796875 30.921875 \r\nQ 33.84375 34.859375 27.734375 34.859375 \r\nQ 25.25 34.859375 21.53125 33.890625 \r\nL 22.515625 41.609375 \r\nQ 23.390625 41.5 23.921875 41.5 \r\nQ 29.546875 41.5 34.03125 44.421875 \r\nQ 38.53125 47.359375 38.53125 53.46875 \r\nQ 38.53125 58.296875 35.25 61.46875 \r\nQ 31.984375 64.65625 26.8125 64.65625 \r\nQ 21.6875 64.65625 18.265625 61.421875 \r\nQ 14.84375 58.203125 13.875 51.765625 \r\nL 5.078125 53.328125 \r\nQ 6.6875 62.15625 12.390625 67.015625 \r\nQ 18.109375 71.875 26.609375 71.875 \r\nQ 32.46875 71.875 37.390625 69.359375 \r\nQ 42.328125 66.84375 44.9375 62.5 \r\nQ 47.5625 58.15625 47.5625 53.265625 \r\nQ 47.5625 48.640625 45.0625 44.828125 \r\nQ 42.578125 41.015625 37.703125 38.765625 \r\nQ 44.046875 37.3125 47.5625 32.6875 \r\nQ 51.078125 28.078125 51.078125 21.140625 \r\nQ 51.078125 11.765625 44.234375 5.25 \r\nQ 37.40625 -1.265625 26.953125 -1.265625 \r\nQ 17.53125 -1.265625 11.296875 4.34375 \r\nQ 5.078125 9.96875 4.203125 18.890625 \r\nz\r\n\" id=\"ArialMT-51\"/>\r\n       </defs>\r\n       <use xlink:href=\"#ArialMT-51\"/>\r\n       <use x=\"55.615234\" xlink:href=\"#ArialMT-48\"/>\r\n      </g>\r\n     </g>\r\n    </g>\r\n    <g id=\"ytick_5\">\r\n     <g id=\"line2d_8\">\r\n      <path clip-path=\"url(#p6395ad32a7)\" d=\"M 28.934062 119.786474 \r\nL 363.734062 119.786474 \r\n\" style=\"fill:none;stroke:#ffffff;stroke-linecap:round;\"/>\r\n     </g>\r\n     <g id=\"text_8\">\r\n      <!-- 40 -->\r\n      <g style=\"fill:#262626;\" transform=\"translate(7.2 123.723271)scale(0.11 -0.11)\">\r\n       <defs>\r\n        <path d=\"M 32.328125 0 \r\nL 32.328125 17.140625 \r\nL 1.265625 17.140625 \r\nL 1.265625 25.203125 \r\nL 33.9375 71.578125 \r\nL 41.109375 71.578125 \r\nL 41.109375 25.203125 \r\nL 50.78125 25.203125 \r\nL 50.78125 17.140625 \r\nL 41.109375 17.140625 \r\nL 41.109375 0 \r\nz\r\nM 32.328125 25.203125 \r\nL 32.328125 57.46875 \r\nL 9.90625 25.203125 \r\nz\r\n\" id=\"ArialMT-52\"/>\r\n       </defs>\r\n       <use xlink:href=\"#ArialMT-52\"/>\r\n       <use x=\"55.615234\" xlink:href=\"#ArialMT-48\"/>\r\n      </g>\r\n     </g>\r\n    </g>\r\n    <g id=\"ytick_6\">\r\n     <g id=\"line2d_9\">\r\n      <path clip-path=\"url(#p6395ad32a7)\" d=\"M 28.934062 93.573092 \r\nL 363.734062 93.573092 \r\n\" style=\"fill:none;stroke:#ffffff;stroke-linecap:round;\"/>\r\n     </g>\r\n     <g id=\"text_9\">\r\n      <!-- 50 -->\r\n      <g style=\"fill:#262626;\" transform=\"translate(7.2 97.509889)scale(0.11 -0.11)\">\r\n       <defs>\r\n        <path d=\"M 4.15625 18.75 \r\nL 13.375 19.53125 \r\nQ 14.40625 12.796875 18.140625 9.390625 \r\nQ 21.875 6 27.15625 6 \r\nQ 33.5 6 37.890625 10.78125 \r\nQ 42.28125 15.578125 42.28125 23.484375 \r\nQ 42.28125 31 38.0625 35.34375 \r\nQ 33.84375 39.703125 27 39.703125 \r\nQ 22.75 39.703125 19.328125 37.765625 \r\nQ 15.921875 35.84375 13.96875 32.765625 \r\nL 5.71875 33.84375 \r\nL 12.640625 70.609375 \r\nL 48.25 70.609375 \r\nL 48.25 62.203125 \r\nL 19.671875 62.203125 \r\nL 15.828125 42.96875 \r\nQ 22.265625 47.46875 29.34375 47.46875 \r\nQ 38.71875 47.46875 45.15625 40.96875 \r\nQ 51.609375 34.46875 51.609375 24.265625 \r\nQ 51.609375 14.546875 45.953125 7.46875 \r\nQ 39.0625 -1.21875 27.15625 -1.21875 \r\nQ 17.390625 -1.21875 11.203125 4.25 \r\nQ 5.03125 9.71875 4.15625 18.75 \r\nz\r\n\" id=\"ArialMT-53\"/>\r\n       </defs>\r\n       <use xlink:href=\"#ArialMT-53\"/>\r\n       <use x=\"55.615234\" xlink:href=\"#ArialMT-48\"/>\r\n      </g>\r\n     </g>\r\n    </g>\r\n    <g id=\"ytick_7\">\r\n     <g id=\"line2d_10\">\r\n      <path clip-path=\"url(#p6395ad32a7)\" d=\"M 28.934062 67.359711 \r\nL 363.734062 67.359711 \r\n\" style=\"fill:none;stroke:#ffffff;stroke-linecap:round;\"/>\r\n     </g>\r\n     <g id=\"text_10\">\r\n      <!-- 60 -->\r\n      <g style=\"fill:#262626;\" transform=\"translate(7.2 71.296508)scale(0.11 -0.11)\">\r\n       <defs>\r\n        <path d=\"M 49.75 54.046875 \r\nL 41.015625 53.375 \r\nQ 39.84375 58.546875 37.703125 60.890625 \r\nQ 34.125 64.65625 28.90625 64.65625 \r\nQ 24.703125 64.65625 21.53125 62.3125 \r\nQ 17.390625 59.28125 14.984375 53.46875 \r\nQ 12.59375 47.65625 12.5 36.921875 \r\nQ 15.671875 41.75 20.265625 44.09375 \r\nQ 24.859375 46.4375 29.890625 46.4375 \r\nQ 38.671875 46.4375 44.84375 39.96875 \r\nQ 51.03125 33.5 51.03125 23.25 \r\nQ 51.03125 16.5 48.125 10.71875 \r\nQ 45.21875 4.9375 40.140625 1.859375 \r\nQ 35.0625 -1.21875 28.609375 -1.21875 \r\nQ 17.625 -1.21875 10.6875 6.859375 \r\nQ 3.765625 14.9375 3.765625 33.5 \r\nQ 3.765625 54.25 11.421875 63.671875 \r\nQ 18.109375 71.875 29.4375 71.875 \r\nQ 37.890625 71.875 43.28125 67.140625 \r\nQ 48.6875 62.40625 49.75 54.046875 \r\nz\r\nM 13.875 23.1875 \r\nQ 13.875 18.65625 15.796875 14.5 \r\nQ 17.71875 10.359375 21.1875 8.171875 \r\nQ 24.65625 6 28.46875 6 \r\nQ 34.03125 6 38.03125 10.484375 \r\nQ 42.046875 14.984375 42.046875 22.703125 \r\nQ 42.046875 30.125 38.078125 34.390625 \r\nQ 34.125 38.671875 28.125 38.671875 \r\nQ 22.171875 38.671875 18.015625 34.390625 \r\nQ 13.875 30.125 13.875 23.1875 \r\nz\r\n\" id=\"ArialMT-54\"/>\r\n       </defs>\r\n       <use xlink:href=\"#ArialMT-54\"/>\r\n       <use x=\"55.615234\" xlink:href=\"#ArialMT-48\"/>\r\n      </g>\r\n     </g>\r\n    </g>\r\n    <g id=\"ytick_8\">\r\n     <g id=\"line2d_11\">\r\n      <path clip-path=\"url(#p6395ad32a7)\" d=\"M 28.934062 41.146329 \r\nL 363.734062 41.146329 \r\n\" style=\"fill:none;stroke:#ffffff;stroke-linecap:round;\"/>\r\n     </g>\r\n     <g id=\"text_11\">\r\n      <!-- 70 -->\r\n      <g style=\"fill:#262626;\" transform=\"translate(7.2 45.083126)scale(0.11 -0.11)\">\r\n       <defs>\r\n        <path d=\"M 4.734375 62.203125 \r\nL 4.734375 70.65625 \r\nL 51.078125 70.65625 \r\nL 51.078125 63.8125 \r\nQ 44.234375 56.546875 37.515625 44.484375 \r\nQ 30.8125 32.421875 27.15625 19.671875 \r\nQ 24.515625 10.6875 23.78125 0 \r\nL 14.75 0 \r\nQ 14.890625 8.453125 18.0625 20.40625 \r\nQ 21.234375 32.375 27.171875 43.484375 \r\nQ 33.109375 54.59375 39.796875 62.203125 \r\nz\r\n\" id=\"ArialMT-55\"/>\r\n       </defs>\r\n       <use xlink:href=\"#ArialMT-55\"/>\r\n       <use x=\"55.615234\" xlink:href=\"#ArialMT-48\"/>\r\n      </g>\r\n     </g>\r\n    </g>\r\n    <g id=\"ytick_9\">\r\n     <g id=\"line2d_12\">\r\n      <path clip-path=\"url(#p6395ad32a7)\" d=\"M 28.934062 14.932948 \r\nL 363.734062 14.932948 \r\n\" style=\"fill:none;stroke:#ffffff;stroke-linecap:round;\"/>\r\n     </g>\r\n     <g id=\"text_12\">\r\n      <!-- 80 -->\r\n      <g style=\"fill:#262626;\" transform=\"translate(7.2 18.869744)scale(0.11 -0.11)\">\r\n       <defs>\r\n        <path d=\"M 17.671875 38.8125 \r\nQ 12.203125 40.828125 9.5625 44.53125 \r\nQ 6.9375 48.25 6.9375 53.421875 \r\nQ 6.9375 61.234375 12.546875 66.546875 \r\nQ 18.171875 71.875 27.484375 71.875 \r\nQ 36.859375 71.875 42.578125 66.421875 \r\nQ 48.296875 60.984375 48.296875 53.171875 \r\nQ 48.296875 48.1875 45.671875 44.5 \r\nQ 43.0625 40.828125 37.75 38.8125 \r\nQ 44.34375 36.671875 47.78125 31.875 \r\nQ 51.21875 27.09375 51.21875 20.453125 \r\nQ 51.21875 11.28125 44.71875 5.03125 \r\nQ 38.234375 -1.21875 27.640625 -1.21875 \r\nQ 17.046875 -1.21875 10.546875 5.046875 \r\nQ 4.046875 11.328125 4.046875 20.703125 \r\nQ 4.046875 27.6875 7.59375 32.390625 \r\nQ 11.140625 37.109375 17.671875 38.8125 \r\nz\r\nM 15.921875 53.71875 \r\nQ 15.921875 48.640625 19.1875 45.40625 \r\nQ 22.46875 42.1875 27.6875 42.1875 \r\nQ 32.765625 42.1875 36.015625 45.375 \r\nQ 39.265625 48.578125 39.265625 53.21875 \r\nQ 39.265625 58.0625 35.90625 61.359375 \r\nQ 32.5625 64.65625 27.59375 64.65625 \r\nQ 22.5625 64.65625 19.234375 61.421875 \r\nQ 15.921875 58.203125 15.921875 53.71875 \r\nz\r\nM 13.09375 20.65625 \r\nQ 13.09375 16.890625 14.875 13.375 \r\nQ 16.65625 9.859375 20.171875 7.921875 \r\nQ 23.6875 6 27.734375 6 \r\nQ 34.03125 6 38.125 10.046875 \r\nQ 42.234375 14.109375 42.234375 20.359375 \r\nQ 42.234375 26.703125 38.015625 30.859375 \r\nQ 33.796875 35.015625 27.4375 35.015625 \r\nQ 21.234375 35.015625 17.15625 30.90625 \r\nQ 13.09375 26.8125 13.09375 20.65625 \r\nz\r\n\" id=\"ArialMT-56\"/>\r\n       </defs>\r\n       <use xlink:href=\"#ArialMT-56\"/>\r\n       <use x=\"55.615234\" xlink:href=\"#ArialMT-48\"/>\r\n      </g>\r\n     </g>\r\n    </g>\r\n   </g>\r\n   <g id=\"patch_3\">\r\n    <path clip-path=\"url(#p6395ad32a7)\" d=\"M 44.152244 224.64 \r\nL 131.113283 224.64 \r\nL 131.113283 17.554286 \r\nL 44.152244 17.554286 \r\nz\r\n\" style=\"fill:#4c72b0;stroke:#ffffff;stroke-linejoin:miter;\"/>\r\n   </g>\r\n   <g id=\"patch_4\">\r\n    <path clip-path=\"url(#p6395ad32a7)\" d=\"M 152.853543 224.64 \r\nL 239.814582 224.64 \r\nL 239.814582 224.64 \r\nL 152.853543 224.64 \r\nz\r\n\" style=\"fill:#4c72b0;stroke:#ffffff;stroke-linejoin:miter;\"/>\r\n   </g>\r\n   <g id=\"patch_5\">\r\n    <path clip-path=\"url(#p6395ad32a7)\" d=\"M 261.554842 224.64 \r\nL 348.515881 224.64 \r\nL 348.515881 90.951754 \r\nL 261.554842 90.951754 \r\nz\r\n\" style=\"fill:#4c72b0;stroke:#ffffff;stroke-linejoin:miter;\"/>\r\n   </g>\r\n   <g id=\"patch_6\">\r\n    <path d=\"M 28.934062 224.64 \r\nL 28.934062 7.2 \r\n\" style=\"fill:none;stroke:#ffffff;stroke-linecap:square;stroke-linejoin:miter;stroke-width:1.25;\"/>\r\n   </g>\r\n   <g id=\"patch_7\">\r\n    <path d=\"M 363.734062 224.64 \r\nL 363.734062 7.2 \r\n\" style=\"fill:none;stroke:#ffffff;stroke-linecap:square;stroke-linejoin:miter;stroke-width:1.25;\"/>\r\n   </g>\r\n   <g id=\"patch_8\">\r\n    <path d=\"M 28.934062 224.64 \r\nL 363.734063 224.64 \r\n\" style=\"fill:none;stroke:#ffffff;stroke-linecap:square;stroke-linejoin:miter;stroke-width:1.25;\"/>\r\n   </g>\r\n   <g id=\"patch_9\">\r\n    <path d=\"M 28.934062 7.2 \r\nL 363.734063 7.2 \r\n\" style=\"fill:none;stroke:#ffffff;stroke-linecap:square;stroke-linejoin:miter;stroke-width:1.25;\"/>\r\n   </g>\r\n   <g id=\"text_13\">\r\n    <!-- 79 -->\r\n    <g style=\"fill:#0000ff;\" transform=\"translate(82.62792 15.765536)scale(0.09 -0.09)\">\r\n     <defs>\r\n      <path d=\"M 5.46875 16.546875 \r\nL 13.921875 17.328125 \r\nQ 14.984375 11.375 18.015625 8.6875 \r\nQ 21.046875 6 25.78125 6 \r\nQ 29.828125 6 32.875 7.859375 \r\nQ 35.9375 9.71875 37.890625 12.8125 \r\nQ 39.84375 15.921875 41.15625 21.1875 \r\nQ 42.484375 26.46875 42.484375 31.9375 \r\nQ 42.484375 32.515625 42.4375 33.6875 \r\nQ 39.796875 29.5 35.234375 26.875 \r\nQ 30.671875 24.265625 25.34375 24.265625 \r\nQ 16.453125 24.265625 10.296875 30.703125 \r\nQ 4.15625 37.15625 4.15625 47.703125 \r\nQ 4.15625 58.59375 10.578125 65.234375 \r\nQ 17 71.875 26.65625 71.875 \r\nQ 33.640625 71.875 39.421875 68.109375 \r\nQ 45.21875 64.359375 48.21875 57.390625 \r\nQ 51.21875 50.4375 51.21875 37.25 \r\nQ 51.21875 23.53125 48.234375 15.40625 \r\nQ 45.265625 7.28125 39.375 3.03125 \r\nQ 33.5 -1.21875 25.59375 -1.21875 \r\nQ 17.1875 -1.21875 11.859375 3.4375 \r\nQ 6.546875 8.109375 5.46875 16.546875 \r\nz\r\nM 41.453125 48.140625 \r\nQ 41.453125 55.71875 37.421875 60.15625 \r\nQ 33.40625 64.59375 27.734375 64.59375 \r\nQ 21.875 64.59375 17.53125 59.8125 \r\nQ 13.1875 55.03125 13.1875 47.40625 \r\nQ 13.1875 40.578125 17.3125 36.296875 \r\nQ 21.4375 32.03125 27.484375 32.03125 \r\nQ 33.59375 32.03125 37.515625 36.296875 \r\nQ 41.453125 40.578125 41.453125 48.140625 \r\nz\r\n\" id=\"ArialMT-57\"/>\r\n     </defs>\r\n     <use xlink:href=\"#ArialMT-55\"/>\r\n     <use x=\"55.615234\" xlink:href=\"#ArialMT-57\"/>\r\n    </g>\r\n   </g>\r\n   <g id=\"text_14\">\r\n    <!-- 0 -->\r\n    <g style=\"fill:#0000ff;\" transform=\"translate(193.831641 222.85125)scale(0.09 -0.09)\">\r\n     <use xlink:href=\"#ArialMT-48\"/>\r\n    </g>\r\n   </g>\r\n   <g id=\"text_15\">\r\n    <!-- 51 -->\r\n    <g style=\"fill:#0000ff;\" transform=\"translate(300.030517 89.163004)scale(0.09 -0.09)\">\r\n     <use xlink:href=\"#ArialMT-53\"/>\r\n     <use x=\"55.615234\" xlink:href=\"#ArialMT-49\"/>\r\n    </g>\r\n   </g>\r\n  </g>\r\n </g>\r\n <defs>\r\n  <clipPath id=\"p6395ad32a7\">\r\n   <rect height=\"217.44\" width=\"334.8\" x=\"28.934062\" y=\"7.2\"/>\r\n  </clipPath>\r\n </defs>\r\n</svg>\r\n",
      "image/png": "[encoded data removed]"
     },
     "metadata": {}
    }
   ],
   "source": [
    "x = ['new', 'music', 'game']\n",
    "y = [79, 0, 51]\n",
    "\n",
    "plt.bar(x, y)\n",
    "for i, v in enumerate(x):\n",
    "    plt.text(v, y[i], y[i],                 # 좌표 (x축 = v, y축 = y[0]..y[1], 표시 = y[0]..y[1])\n",
    "             fontsize = 9, \n",
    "             color='blue',\n",
    "             horizontalalignment='center',  # horizontalalignment (left, center, right)\n",
    "             verticalalignment='bottom')    # verticalalignment (top, center, bottom)\n",
    "\n",
    "plt.show()"
   ]
  },
  {
   "cell_type": "code",
   "execution_count": null,
   "metadata": {},
   "outputs": [],
   "source": []
  }
 ]
}